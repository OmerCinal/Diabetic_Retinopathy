{
 "cells": [
  {
   "cell_type": "markdown",
   "metadata": {},
   "source": [
    "<center>\n",
    "    <h1>Diabetic Retinopathy Detection</h1>\n",
    "    <h2>Final Report</h2>\n",
    "    <h3>Omer Cinal</h3>\n",
    "    <img src=\"https://kaggle2.blob.core.windows.net/competitions/kaggle/4104/logos/front_page.png\">\n",
    "    <h2>Introduction</h2>\n",
    "    <div>\n",
    "        Diabetic retinopathy is a complication that affects the eyes and is caused by diabetes. The tissue at the back of the eye (retina) is damaged slowly. The disease usually shows no symptoms and only causes mild visual problems. As the illness progresses, the eye starts losing vision rapidly. Diabetic retinopathy is one of the leading causes of blindess. It is estimated that 347 million people around the world carry the disease. \n",
    "    </div>\n",
    "    <br>\n",
    "    <div>\n",
    "        This is a Kaggle competition. More details can be found following the link below.<br>\n",
    "        https://www.kaggle.com/c/diabetic-retinopathy-detection\n",
    "    </div>\n"
   ]
  },
  {
   "cell_type": "markdown",
   "metadata": {},
   "source": [
    "<h2>Metrics Used</h2>\n",
    "    - Accuracy\n",
    "    - Precision\n",
    "    - Recall\n",
    "    - F1\n",
    "    - Confusion Matrix\n",
    "    - Cohens Kappa"
   ]
  },
  {
   "cell_type": "markdown",
   "metadata": {},
   "source": [
    "<h2>Outline</h2>\n",
    "- Libraries <a href=#Libraries>Go</a>\n",
    "- Data Exploration <a href=#Data-Exploration>Go</a>\n",
    "- Preprocessing <a href=#Preprocessing>Go</a>\n",
    "- Classification <a href=#Classification>Go</a>\n",
    "- Conclusion <a href=#Conclusion>Go</a>"
   ]
  },
  {
   "cell_type": "markdown",
   "metadata": {},
   "source": [
    "<h2>Libraries</h2><a href=#Outline>Go Up</a>\n",
    "<h3>Data processing</h3>\n",
    "The following libraries are used for preparing the data for training the models.\n",
    "- Opencv\n",
    "- PIL\n",
    "- Pandas\n",
    "\n",
    "<h3>Classifiers</h3>\n",
    "The following libraries are used for classification.\n",
    "- Sklearn\n",
    "    - Support Vector Classifier   (SVC)\n",
    "    - Stochastic Gradient Descent (SGD)\n",
    "    - Random Forest Classifier    (RFC)\n",
    "    - Ada Boost Classifier        (ADA)\n",
    "    - Logistic Regression         (LR)\n",
    "- Keras\n",
    "    - Tensorflow\n",
    "\n",
    "<h3>Visualization</h3>\n",
    "- Matplotlib\n",
    "- Plotly"
   ]
  },
  {
   "cell_type": "code",
   "execution_count": 1,
   "metadata": {},
   "outputs": [
    {
     "name": "stderr",
     "output_type": "stream",
     "text": [
      "Using TensorFlow backend.\n"
     ]
    }
   ],
   "source": [
    "from IPython.display import HTML, display\n",
    "from PIL import Image\n",
    "import os\n",
    "import pandas as pd\n",
    "import numpy as np\n",
    "import cv2\n",
    "import keras\n",
    "import time\n",
    "import math\n",
    "from operator import mul\n",
    "\n",
    "from sklearn import svm\n",
    "from sklearn.model_selection import train_test_split\n",
    "from sklearn.metrics import cohen_kappa_score, precision_score, recall_score, confusion_matrix, f1_score, accuracy_score\n",
    "from sklearn.linear_model import SGDClassifier, LogisticRegression\n",
    "from sklearn.decomposition import PCA\n",
    "from sklearn.preprocessing import StandardScaler\n",
    "from sklearn.ensemble import RandomForestClassifier, AdaBoostClassifier\n",
    "\n",
    "from imblearn.under_sampling import RandomUnderSampler\n",
    "from imblearn.over_sampling import RandomOverSampler\n",
    "\n",
    "# Using Tensorflow backend\n",
    "from keras.models import Sequential\n",
    "from keras.layers import Dense, Dropout, Activation, Flatten, Convolution1D, MaxPooling1D\n",
    "from keras.utils import np_utils\n",
    "\n",
    "import matplotlib.image as mpimg\n",
    "import matplotlib.pyplot as plt\n",
    "%matplotlib inline\n",
    "\n",
    "import plotly.plotly as py\n",
    "from plotly.graph_objs import *\n",
    "import plotly.tools as tls\n",
    "import plotly\n",
    "plotly.tools.set_credentials_file(username='omerci', api_key='lo3FuhJKiCE9Dxvg8nye') \n",
    "\n",
    "np.random.seed(42)\n",
    "\n",
    "MYPATH = os.getcwd()\n",
    "IMAGE_PATH = MYPATH + \"/train\"\n",
    "SCALED_IMAGE_PATH = MYPATH + \"/train_rescaled_256\"\n",
    "PAIR_PATH = MYPATH + \"/train_pairs\"\n",
    "PAIR_PATH_RGB = MYPATH + \"/train_pairs_rgb\"\n",
    "TEST_RATIO = 0.20\n",
    "RESOLUTION = (256, 256) \n",
    "LABEL_COUNT = 5"
   ]
  },
  {
   "cell_type": "markdown",
   "metadata": {},
   "source": [
    "The code below gets the image sizes one by one and plots them."
   ]
  },
  {
   "cell_type": "code",
   "execution_count": 2,
   "metadata": {},
   "outputs": [],
   "source": [
    "# Goes through the folder and gets the image sizes\n",
    "def getImageSizes(files, resolution=None, show_progress=False):\n",
    "    hist = dict()\n",
    "    i=0\n",
    "    s = len(files)\n",
    "    print \"Total Image count:\",s\n",
    "    for image in files:\n",
    "        if show_progress:\n",
    "            i += 1\n",
    "            if i % 1000 == 0: print (i*1.0)/s \n",
    "        imsize = Image.open(\"train/\" + image).size\n",
    "        if resolution:\n",
    "            if imsize != resolution: \n",
    "                continue  \n",
    "        if imsize not in hist:\n",
    "            hist[imsize] = 1\n",
    "        else:\n",
    "            hist[imsize] += 1\n",
    "    print \"Fitting image count:\", sum(hist.values())\n",
    "    return hist\n",
    "\n",
    "# Plots the image sizes in a readable plot\n",
    "def plotImageSizes(image_sizes):\n",
    "    sorted_keys = sorted(image_sizes.keys())\n",
    "    image_sizes_keys = [(\"%04d x %04d\" % (j, i)) for i, j in sorted_keys]\n",
    "    image_sizes_values = [image_sizes[i] for i in sorted_keys]\n",
    "    plt.figure(figsize=(15, 10))\n",
    "    plt.xlabel(\"Resolution\", fontsize=50)\n",
    "    plt.ylabel(\"# of images\", fontsize=50)\n",
    "    plt.xticks(rotation=\"vertical\", fontsize=30)\n",
    "    plt.yticks(fontsize=30)\n",
    "    plt.bar(image_sizes_keys, image_sizes_values)\n",
    "    #plt.savefig(\"Image_sizes.png\")\n",
    "    return plt.show()"
   ]
  },
  {
   "cell_type": "markdown",
   "metadata": {},
   "source": [
    "<h1>Data Exploration</h1><a href=#Outline>Go Up</a><br>\n",
    "The first step I took was to figure out what properties the data had. Below, it can been seen that the training dataset contains 35126 single eye images. And each image looks like this.\n",
    "<center><table>\n",
    "    <tr>\n",
    "    <td><img src=\"https://preview.ibb.co/cLJ7nG/10_left.jpg\"></td>\n",
    "    <td><img src=\"https://preview.ibb.co/cbKDSG/10_right.jpg\"></td>\n",
    "    </tr>\n",
    "    <td>10_left.jpeg</td>\n",
    "    <td>10_right.jpeg</td>\n",
    "</table>\n",
    "</center>\n",
    "Even though each eye is in a separate file, diabetic retinapathy affects both eyes in almost all conditions. So merging eyes into one image should help manipulating the data and maybe increase the accuracy. <br><br>\n",
    "Second, images vary in resolution."
   ]
  },
  {
   "cell_type": "markdown",
   "metadata": {},
   "source": [
    "<h3>Resolution</h3>"
   ]
  },
  {
   "cell_type": "code",
   "execution_count": null,
   "metadata": {
    "scrolled": true
   },
   "outputs": [],
   "source": [
    "# reading the images names from the label file\n",
    "names = pd.read_csv(\"trainLabels.csv\")[\"image\"]\n",
    "# getting the resolution of each image file by file\n",
    "image_sizes = getImageSizes(names)\n",
    "# plotting the sizes\n",
    "plotImageSizes(names) "
   ]
  },
  {
   "cell_type": "markdown",
   "metadata": {},
   "source": [
    "Total image count is how many images there are in the folder and fitting image count is how many of them match the labels. This is done to ensure there are no mistakes in labeling the data.\n",
    "\n",
    "The figure below is the histogram of resolutions. The images are in high quality and their resolutions vary a lot.\n",
    "<img src=\"https://preview.ibb.co/hsz2Mb/Image_sizes.png\">\n",
    "<br>\n",
    "Even though the needed part of the image is circular (retina), the images are mostly not even close to being square shaped. This is caused by the black edges mostly on the left and right sides. These mean the images should be rescaled to a much smaller resolution and black edges must be cropped to avoid image disruption.\n",
    "\n",
    "<img src=\"https://preview.ibb.co/iPoJuw/cropping_black_edges.png\">"
   ]
  },
  {
   "cell_type": "markdown",
   "metadata": {},
   "source": [
    "<h3>Class Distribution</h3>\n",
    "Diabetic retinopathy has 4 stages. So, there are 5 labels in total including control group images.\n",
    "- (0) No DR\n",
    "- (1) Mild \n",
    "- (2) Moderate \n",
    "- (3) Severe \n",
    "- (4) Proliferative DR  \n",
    "\n",
    "<center><table>\n",
    "    <tr>\n",
    "    <td><img src=\"https://image.ibb.co/fO6hMb/10_rescaled_256.jpg\"></td>\n",
    "    <td><img src=\"https://image.ibb.co/jVAnnG/36_rescaled_256.jpg\"></td>\n",
    "    <td><img src=\"https://image.ibb.co/d58wgb/51_rescaled_256.jpg\"></td>\n",
    "    <td><img src=\"https://image.ibb.co/eFMtSG/99_rescaled_256.jpg\"></td>\n",
    "    <td><img src=\"https://image.ibb.co/cLOjZw/294_rescaled_256.jpg\"></td>\n",
    "    </tr>\n",
    "    <td>NO DR</td>\n",
    "    <td>Mild</td>\n",
    "    <td>Moderate</td>\n",
    "    <td>Severe</td>\n",
    "    <td>Proliferative</td>\n",
    "</table>\n",
    "</center>\n",
    "(The black edges are cropped and images are rescaled to 256x256 in the images above) <br>\n",
    "\n",
    "Plotting a histogram of the dataset showed that labels are very unbalanced."
   ]
  },
  {
   "cell_type": "code",
   "execution_count": 4,
   "metadata": {},
   "outputs": [],
   "source": [
    "# reading labels from the labels file\n",
    "labels = pd.read_csv(\"trainLabels.csv\")\n",
    "image_names = labels[\"image\"]\n",
    "labels = labels[\"level\"]"
   ]
  },
  {
   "cell_type": "code",
   "execution_count": 4,
   "metadata": {
    "scrolled": false
   },
   "outputs": [
    {
     "data": {
      "image/png": "[encoded data removed]",
      "text/plain": [
       "<matplotlib.figure.Figure at 0x7f30b818b450>"
      ]
     },
     "metadata": {},
     "output_type": "display_data"
    }
   ],
   "source": [
    "plt.hist(labels, align=\"mid\")\n",
    "plt.xticks(range(5))\n",
    "plt.xlabel(\"Class Id\", fontsize=20)\n",
    "plt.ylabel(\"Amount\", fontsize=20)\n",
    "plt.show() "
   ]
  },
  {
   "cell_type": "markdown",
   "metadata": {},
   "source": [
    "73.47% of the data is the control group. This causes a big problem since it will affect the accuracy of the classifiers and should be solved. However, I have yet address a method on solving this problem.\n",
    "Removing 50% of the control group is the quickest solution so far. This hasn't been implemented yet.\n",
    "\n",
    "<h3>Order of the labels</h3>\n",
    "\n",
    "The images are pre-shuffled. The labels for each image is shown below, there are no clusters of labels. This will come in handy when selecting a small subset of the dataset for training and testing the classifiers. There is no need for random selection. "
   ]
  },
  {
   "cell_type": "code",
   "execution_count": 29,
   "metadata": {},
   "outputs": [
    {
     "data": {
      "image/png": "[encoded data removed]",
      "text/plain": [
       "<matplotlib.figure.Figure at 0x7f09dfc04c90>"
      ]
     },
     "metadata": {},
     "output_type": "display_data"
    }
   ],
   "source": [
    "plt.figure(figsize=(15, 10))\n",
    "plt.yticks(range(5))\n",
    "plt.xlabel(\"Image Id\", fontsize=20)\n",
    "plt.ylabel(\"Label\", fontsize=20)\n",
    "plt.scatter(range(35126), labels, marker=\".\",s=[1 for i in range(35126)])\n",
    "plt.show()"
   ]
  },
  {
   "cell_type": "markdown",
   "metadata": {},
   "source": [
    "<h1>Preprocessing</h1><a href=#Outline>Go Up</a><br>\n",
    "\n",
    "The raw image is processed with the following steps. First the images are read using Opencv library. The files are in jpeg format. This means they are compressed and occupy less space. But, this also means there will be loss of data if they are saved as jpeg after rescaling. So, the images are saved using numpy library as npy files.  \n",
    "\n",
    "<img src=\"https://preview.ibb.co/gbN07G/preprocessing_pipeline.png\">\n",
    "<center><table>\n",
    "    <tr>\n",
    "    <td><img height=256 width= 256 src=\"https://preview.ibb.co/cLJ7nG/10_left.jpg\"></td>\n",
    "    <td><img src=\"https://image.ibb.co/mOSWgb/10_pair_rgb.png\"></td>\n",
    "    <td><img src=\"https://image.ibb.co/nPQv7G/10_stacked.png\"></td>\n",
    "    </tr>\n",
    "    <td>Raw Image (4758 x 3168 x 3)</td>\n",
    "    <td>RGB Image (512 x 256 x 3)</td>\n",
    "    <td>*Stacked RGB Image (768 x 512)</td>\n",
    "</table>\n",
    "</center>\n",
    "\n",
    "*The stacked RGB image appears greenish because of the way matplotlib displays 1D images. \n",
    "\n",
    "There are 2 outputs of the preprocessing pipeline. This is done for testing purposes. Images are also converted into grayscale, however, there was an apparent loss of features due to conversion. "
   ]
  },
  {
   "cell_type": "markdown",
   "metadata": {},
   "source": [
    "<h3>Cropping & Resizing</h3>\n",
    "\n",
    "The black edges are detected using numpy library's masking feature. A black pixel contains the number 0, so for the mask a threshold value of 1 should be enough. However, some images are noisy and sometimes black areas contain lighter pixels. So, by testing a threshold of 10 is used to create a mask that will crop out the edges.\n",
    "\n",
    "After cropping the edges the images become square shaped (or close to a square). So downscaling won't disrupt the image. Opencv library resizes the images to 256 x 256 pixels."
   ]
  },
  {
   "cell_type": "code",
   "execution_count": 5,
   "metadata": {},
   "outputs": [],
   "source": [
    "# Crops the black edges and rescales an image\n",
    "def resizeImage(img_name, threshold=10):\n",
    "    img = cv2.imread(img_name)\n",
    "    mask = cv2.cvtColor(img, cv2.COLOR_BGR2GRAY)  > threshold\n",
    "    img = img[np.ix_(mask.any(1), mask.any(0))]\n",
    "    return cv2.resize(img, RESOLUTION)"
   ]
  },
  {
   "cell_type": "markdown",
   "metadata": {},
   "source": [
    "The images are processed one by one. This step takes around 2 hours. So, this part is done using multithreading in another file. By utilizing 8 cores, this operation takes less than 30 minutes. The limitation after the CPU utilization seems to be the hard drive not being able to cache up. "
   ]
  },
  {
   "cell_type": "code",
   "execution_count": 6,
   "metadata": {},
   "outputs": [],
   "source": [
    "# Resizes and saves each image\n",
    "def resizeAndSaveImages(img_names, start, destination, resolution=RESOLUTION, threshold=10):\n",
    "    i=0\n",
    "    for name in img_names:\n",
    "        name = \".\".join([name, 'jpeg'])\n",
    "        img = Image.fromarray(resizeImage(start+\"/\"+name))\n",
    "        img.save(destination+\"/\"+name)\n",
    "        i+=1\n",
    "        if i%3500 == 0:\n",
    "            print i,\n",
    "    print \"Done\""
   ]
  },
  {
   "cell_type": "code",
   "execution_count": 5,
   "metadata": {},
   "outputs": [],
   "source": [
    "#resizeAndSaveImages(image_names, \"train\", \"train_rescaled_256\")"
   ]
  },
  {
   "cell_type": "markdown",
   "metadata": {},
   "source": [
    "<h3>Merging Eyes</h3>\n",
    "\n",
    "The ids of images are extracted. Since left and right pairs will be merged, name extensions like \"10_left\" are no longer required. "
   ]
  },
  {
   "cell_type": "code",
   "execution_count": 7,
   "metadata": {},
   "outputs": [],
   "source": [
    "# Merges left and right pair names\n",
    "def mergeRightLeft(img_names, labels):\n",
    "    X, y = [], []\n",
    "    for i in range(0, len(img_names)-1, 2):\n",
    "        X.append(img_names[i].split(\"_\")[0]+\".npy\")\n",
    "        y.append(labels[i])\n",
    "    return X, y\n",
    "\n",
    "# Merges left and right pair images and saves them \n",
    "def makePairImages(pairs):\n",
    "    for name in pairs:\n",
    "        name = PAIR_PATH+\"/\"+name.split(\"_\")[0]+\".jpeg\"\n",
    "        left = cv2.imread(SCALED_IMAGE_PATH+\"/\"+i+\"_left.jpeg\")\n",
    "        right = cv2.imread(SCALED_IMAGE_PATH+\"/\"+i+\"_right.jpeg\")\n",
    "        Image.fromarray(np.concatenate((left, right), axis=1)).save(name)"
   ]
  },
  {
   "cell_type": "markdown",
   "metadata": {},
   "source": [
    "So, at this point images look like this. They are ready to train the models.\n",
    "\n",
    "<img src=\"https://image.ibb.co/mOSWgb/10_pair_rgb.png\">"
   ]
  },
  {
   "cell_type": "markdown",
   "metadata": {},
   "source": [
    "<h3>Train & Test sets</h3>\n",
    "\n",
    "Here, the train and the test sets are splitted with a ratio of 0.2. The test set ratio is low since the dataset is relatively large. Sklearn library is used for splitting the data."
   ]
  },
  {
   "cell_type": "code",
   "execution_count": 8,
   "metadata": {},
   "outputs": [],
   "source": [
    "def splitTrainTest(X, y, ratio=TEST_RATIO):\n",
    "    return train_test_split(X, y, test_size=ratio)"
   ]
  },
  {
   "cell_type": "code",
   "execution_count": 9,
   "metadata": {},
   "outputs": [],
   "source": [
    "X, y = mergeRightLeft(image_names, labels)\n",
    "X_train, X_test, y_train, y_test = splitTrainTest(X, y)\n",
    "#makePairImages(X)"
   ]
  },
  {
   "cell_type": "markdown",
   "metadata": {},
   "source": [
    "Preparing another label file for health vs sick classification attempts"
   ]
  },
  {
   "cell_type": "code",
   "execution_count": 50,
   "metadata": {},
   "outputs": [],
   "source": [
    "def binarizeArray(y):\n",
    "    y_train_ovr = np.array(y) \n",
    "    for i, e in enumerate(y_train_ovr):\n",
    "        if e != 0:\n",
    "            y_train_ovr[i] = 1\n",
    "    return y_train_ovr\n",
    "\n",
    "y_train_ovr = binarizeArray(y)  "
   ]
  },
  {
   "cell_type": "markdown",
   "metadata": {},
   "source": [
    "<h4>Under and Over sampling</h4>\n",
    "The dataset is undersampled and oversampled to fix the imbalance problem. This method is selected since it is easy to implement and since the dataset is big enough, it is unlikely to cause any loss on the significant data points.\n",
    "\n",
    "I have compared both methods to see which one would give me a better result in classification."
   ]
  },
  {
   "cell_type": "code",
   "execution_count": 52,
   "metadata": {},
   "outputs": [],
   "source": [
    "# Random states are not changed since numpy seed is set to 42\n",
    "# Under sampler\n",
    "rus = RandomUnderSampler()\n",
    "X_us, y_us = rus.fit_sample(np.reshape(X, (-1, 1)), y) \n",
    "X_trainus, X_testus, y_trainus, y_testus = splitTrainTest(X_us, y_us) \n",
    "\n",
    "# Binarized\n",
    "X_us_bin, y_us_bin = rus.fit_sample(np.reshape(X, (-1, 1)), binarizeArray(y))\n",
    "X_trainus_bin, X_testus_bin, y_trainus_bin, y_testus_bin = splitTrainTest(X_us_bin, y_us_bin)\n",
    "\n",
    "# Over sampler\n",
    "ros = RandomOverSampler()\n",
    "X_os, y_os = ros.fit_sample(np.reshape(X, (-1, 1)), y) \n",
    "X_trainos, X_testos, y_trainos, y_testos = splitTrainTest(X_os, y_os) \n",
    "\n",
    "# Binarized\n",
    "X_os_bin, y_os_bin = ros.fit_sample(np.reshape(X, (-1, 1)), binarizeArray(y))\n",
    "X_trainos_bin, X_testos_bin, y_trainos_bin, y_testos_bin = splitTrainTest(X_os_bin, y_os_bin) "
   ]
  },
  {
   "cell_type": "code",
   "execution_count": 53,
   "metadata": {
    "scrolled": false
   },
   "outputs": [
    {
     "name": "stdout",
     "output_type": "stream",
     "text": [
      "Original sampling train set count 14050, test set count 3513.\n",
      "\n",
      "Random over sampling train set count 1412, test set count 12871.\n",
      "\n",
      "Random under sampling train set count 1412, test set count 353.\n"
     ]
    },
    {
     "data": {
      "image/png": "[encoded data removed]",
      "text/plain": [
       "<matplotlib.figure.Figure at 0x7fae019bbcd0>"
      ]
     },
     "metadata": {},
     "output_type": "display_data"
    }
   ],
   "source": [
    "print '''Original sampling train set count {0}, test set count {1}.\\n\n",
    "Random over sampling train set count {4}, test set count {5}.\\n\n",
    "Random under sampling train set count {2}, test set count {3}.'''\\\n",
    "        .format(len(y_train), len(y_test), len(y_trainus), len(y_testus), len(y_trainus), len(y_testos)) \n",
    "plt.figure(figsize=(15, 5)) \n",
    "plt.hist(y_train, align='left', label='Original', width=0.25)\n",
    "plt.hist(y_trainos, align='mid', label='Over sampled', width=0.25)\n",
    "plt.hist(y_trainus, align='right', label='Under sampled', width=0.25)\n",
    "plt.legend(prop={'size':12}) \n",
    "plt.show() "
   ]
  },
  {
   "cell_type": "markdown",
   "metadata": {},
   "source": [
    "Original data is highly imbalanced on the label 0.\n",
    "Over sampled data seems to be the most uniformly distributed. I will be using it as my training and test set.\n",
    "Under sampled data is also uniformly distributed but the sample size is very small. Could still be used."
   ]
  },
  {
   "cell_type": "code",
   "execution_count": 59,
   "metadata": {},
   "outputs": [
    {
     "name": "stdout",
     "output_type": "stream",
     "text": [
      "Original sampling train set count 14050, test set count 3513.\n",
      "\n",
      "Random over sampling train set count 7507, test set count 5149.\n",
      "\n",
      "Random under sampling train set count 7507, test set count 1877.\n"
     ]
    },
    {
     "data": {
      "image/png": "[encoded data removed]",
      "text/plain": [
       "<matplotlib.figure.Figure at 0x7fae0195ab90>"
      ]
     },
     "metadata": {},
     "output_type": "display_data"
    }
   ],
   "source": [
    "print '''Original sampling train set count {0}, test set count {1}.\\n\n",
    "Random over sampling train set count {4}, test set count {5}.\\n\n",
    "Random under sampling train set count {2}, test set count {3}.'''\\\n",
    "        .format(len(y_train), len(y_test), len(y_trainus_bin), len(y_testus_bin), len(y_trainus_bin), len(y_testos_bin))\n",
    "plt.figure(figsize=(8, 5)) \n",
    "plt.hist(y_trainos_bin, align='left', label='Over Sampled', width=0.12)\n",
    "plt.hist(binarizeArray(y_train), align='mid', label='Original', width=0.12)\n",
    "plt.hist(y_trainus_bin, align='right', label='Under sampled', width=0.12)\n",
    "plt.legend(prop={'size':12}) \n",
    "plt.show() "
   ]
  },
  {
   "cell_type": "markdown",
   "metadata": {},
   "source": [
    "Binarized data seems to have a larger test size, since all labels are merged."
   ]
  },
  {
   "cell_type": "markdown",
   "metadata": {},
   "source": [
    "<h3>PCA</h3>\n",
    "PCA will be applied when the train funcion is called and images are loaded on the memory.\n",
    "\n",
    "To find out what should be the n_components be for around 95% information preservence, I tried to do eigendecomposition and plotted them to see the variance each principal component carries. "
   ]
  },
  {
   "cell_type": "code",
   "execution_count": 12,
   "metadata": {},
   "outputs": [],
   "source": [
    "def applyPCA(X, n_components=None):\n",
    "    clf = PCA(n_components=n_components)  \n",
    "    return clf.fit_transform(X) "
   ]
  },
  {
   "cell_type": "code",
   "execution_count": 209,
   "metadata": {
    "scrolled": false
   },
   "outputs": [
    {
     "name": "stdout",
     "output_type": "stream",
     "text": [
      "Original sample dimensions (393216,)\n",
      "\tApplying PCA with None components ... \n",
      "Sample dimensions after PCA (5,)\n"
     ]
    }
   ],
   "source": [
    "names = X_trainus[:5]\n",
    "images = [None for i in range(len(names))]\n",
    "for i in range(len(names)):\n",
    "    images[i] = np.load(PAIR_PATH+\"/\"+names[i][0]).flatten()\n",
    "    \n",
    "print 'Original sample dimensions {}'.format(images[0].shape)\n",
    "sample = applyPCA(images)   \n",
    "print 'Sample dimensions after PCA {}'.format(sample[0].shape) "
   ]
  },
  {
   "cell_type": "markdown",
   "metadata": {},
   "source": [
    "<h3>Calculating eigenvalues and eigenvectors</h3>\n",
    "\n",
    "First loading the images on to drive."
   ]
  },
  {
   "cell_type": "code",
   "execution_count": 191,
   "metadata": {},
   "outputs": [],
   "source": [
    "X = [None for i in range(50)]  \n",
    "for i, name in enumerate(X_trainos):\n",
    "    if i == 50: break\n",
    "    X[i] = np.load(PAIR_PATH+\"/\"+name[0]).flatten() \n",
    "X = np.array(X) \n",
    "X_std = StandardScaler().fit_transform(X) \n",
    "mean_vec = np.mean(X_std, axis=0) "
   ]
  },
  {
   "cell_type": "markdown",
   "metadata": {},
   "source": [
    "Calculating the pearson correlation of each row. All existing libraries give memory error, so had to do the correlation by hand. Even though, it is double checked it might still have errors."
   ]
  },
  {
   "cell_type": "code",
   "execution_count": 147,
   "metadata": {},
   "outputs": [],
   "source": [
    "def correlation(pixel, image):\n",
    "    c, m = image.shape\n",
    "    #image = image.reshape(c, m)\n",
    "\n",
    "    pixel_mean = pixel.mean()\n",
    "    pixel_std = pixel.std()\n",
    "    means = image.mean(0)\n",
    "    stds = image.std(0)\n",
    "\n",
    "    # calculate the covariance between `pixel` and each image pixel\n",
    "    covs = np.dot(pixel - pixel_mean, image - means) / float(c)\n",
    "\n",
    "    # calculate Pearson's correlation coefficient\n",
    "    corr = covs / (pixel_std * stds)\n",
    "    return corr#.reshape(m, n) "
   ]
  },
  {
   "cell_type": "code",
   "execution_count": 148,
   "metadata": {},
   "outputs": [],
   "source": [
    "cor_mat1 = []\n",
    "for col in xrange(X_std.T.shape[1]):\n",
    "    cor_mat1.append(correlation(X_std.T[:,col], X_std.T)) "
   ]
  },
  {
   "cell_type": "markdown",
   "metadata": {},
   "source": [
    "Sorting (eigenvalue, eigenvector) pairs to see what components carry the highest information"
   ]
  },
  {
   "cell_type": "code",
   "execution_count": 219,
   "metadata": {},
   "outputs": [],
   "source": [
    "eig_vals, eig_vecs = np.linalg.eig(cor_mat1) \n",
    "eig_pairs = [(np.abs(eig_vals[i]), eig_vecs[:,i]) for i in range(len(eig_vals))]\n",
    "\n",
    "eig_pairs.sort()\n",
    "eig_pairs.reverse()"
   ]
  },
  {
   "cell_type": "markdown",
   "metadata": {},
   "source": [
    "Plotting first 50 PC since it reaches 100% after that point. (This piece of code is taken from online sources)"
   ]
  },
  {
   "cell_type": "code",
   "execution_count": 222,
   "metadata": {
    "scrolled": false
   },
   "outputs": [
    {
     "data": {
      "text/html": [
       "<iframe id=\"igraph\" scrolling=\"no\" style=\"border:none;\" seamless=\"seamless\" src=\"https://plot.ly/~omerci/16.embed\" height=\"525px\" width=\"100%\"></iframe>"
      ],
      "text/plain": [
       "<plotly.tools.PlotlyDisplay object>"
      ]
     },
     "execution_count": 222,
     "metadata": {},
     "output_type": "execute_result"
    }
   ],
   "source": [
    "def plotEigens(eig_vals, n=50):\n",
    "    tot = sum(eig_vals)\n",
    "    var_exp = [(i / tot)*100 for i in sorted(eig_vals, reverse=True)]\n",
    "    cum_var_exp = np.cumsum(var_exp)\n",
    "\n",
    "    trace1 = Bar(\n",
    "            x=['PC %s' %i for i in range(1,n)],\n",
    "            y=var_exp,\n",
    "            showlegend=False)\n",
    "\n",
    "    trace2 = Scatter(\n",
    "            x=['PC %s' %i for i in range(1,n)], \n",
    "            y=cum_var_exp,\n",
    "            name='Cumulative explained variance')\n",
    "\n",
    "    fig = Figure(data=Data([trace1, trace2]), \n",
    "                 layout=Layout(\n",
    "                            yaxis=YAxis(title='Explained variance in %'),\n",
    "                            title='Explained variance by different PC'))\n",
    "\n",
    "    return py.iplot(fig)\n",
    "plotEigens(eig_vals)"
   ]
  },
  {
   "cell_type": "markdown",
   "metadata": {},
   "source": [
    "It appears that the first PC carries 26.46% variance. After 7th PC the variance drops faster and there is almost no variance preserved. To achieve at least 95%, I will pick the 32 PCs to perform the analysis. Even though scikit learn does this by itself, I took the long way to explore the data even further. "
   ]
  },
  {
   "cell_type": "markdown",
   "metadata": {},
   "source": [
    "Cleaning up. (Need more RAM)"
   ]
  },
  {
   "cell_type": "code",
   "execution_count": 223,
   "metadata": {},
   "outputs": [],
   "source": [
    "del eig_pairs, eig_vals, eig_vecs, X, X_std"
   ]
  },
  {
   "cell_type": "markdown",
   "metadata": {},
   "source": [
    "<h1>Classification</h1><a href=#Outline>Go Up</a>\n",
    "\n",
    "Therea are 3 models that have been tested so far. 2 of them resulted in very low accuracies while the last one hasn't been tested (due to ResourceExhaustedError). Training the classifiers takes very long time. A training with the entire dataset is estimated to take around 3 hours with the classifiers tested and with the current resources in hand. Therefore, first 1000 images are used for testing. Since the images are already scrambled, it is unnecessary to select them randomly.\n",
    "\n",
    "The training and prediction speed of the classifiers are timed manually. SVC took the longest with 45 minutes of training and testing time. SGD took 25 minutes. CNN never passed the first epoch, therefore, it isn't possible to estimate a time. A much more accurate timing and estimation will be done using python timers."
   ]
  },
  {
   "cell_type": "code",
   "execution_count": 13,
   "metadata": {},
   "outputs": [],
   "source": [
    "def createSVM(c=1.0, g='auto'):\n",
    "    return svm.SVC(C=c, gamma=g)\n",
    "\n",
    "def createSGD(max_iter=20, alpha=0.001, loss='hinge'):\n",
    "    return SGDClassifier(max_iter=max_iter, alpha=alpha, loss=loss, n_jobs=-1)\n",
    "\n",
    "def createRFC(max_depth=2, n_est=10):\n",
    "    return RandomForestClassifier(max_depth=max_depth, n_estimators=n_est, n_jobs=-1) \n",
    "\n",
    "def createADA(n_est=50, learning_rate=1):\n",
    "    return AdaBoostClassifier(n_estimators=n_est, learning_rate=learning_rate)  \n",
    "\n",
    "def createLR(c=1.0, max_iter=100, solver='liblinear'):\n",
    "    return LogisticRegression(C=c, max_iter=max_iter, solver=solver, n_jobs=-1)  "
   ]
  },
  {
   "cell_type": "code",
   "execution_count": 14,
   "metadata": {},
   "outputs": [],
   "source": [
    "def trainModel(names, y, clf, pca=False, n_comp=None):\n",
    "    print \"Started training\" \n",
    "    start = time.time()\n",
    "    print \"Loading {0} images ... \".format(str(len(names))),\n",
    "    X = [None for i in range(len(names))]\n",
    "    for i in range(len(names)):\n",
    "        X[i] = np.load(PAIR_PATH+\"/\"+names[i][0]).reshape((1, -1))[0]\n",
    "    print \"Done\"\n",
    "    if pca:\n",
    "        print 'Applying PCA ... ',\n",
    "        X = applyPCA(X, n_components=n_comp)  \n",
    "        print 'Done'\n",
    "    print 'Training the model'\n",
    "    clf.fit(X, y) \n",
    "    print \"Training complete, took {0} seconds.\".format(time.time()-start) \n",
    "    return clf"
   ]
  },
  {
   "cell_type": "markdown",
   "metadata": {},
   "source": [
    "<h2>Evaluation</h2>\n",
    "\n",
    "Both models are tested using the same metrics. \n",
    "- Accuracy Score\n",
    "- Precision Score\n",
    "- Recall Score\n",
    "- F1 Score\n",
    "- Confusion Matrix\n",
    "- Cohen Kappa Score\n",
    "\n",
    "Cohen Kappa score is used in the competition. Therefore, it is a good score to compare the classifier with other classifiers on the leaderboard."
   ]
  },
  {
   "cell_type": "code",
   "execution_count": 15,
   "metadata": {},
   "outputs": [],
   "source": [
    "# TODO: everything is in one code, make it into couple more functions\n",
    "def testModel(names, y_true, model, pca=False, avg='macro', n_comp=None):\n",
    "    print \"Started evaluation\"\n",
    "    print \"Loading {0} images ... \".format(str(len(names))), \n",
    "    # creating an array for the images\n",
    "    X = [None for i in range(len(names))]\n",
    "    try:\n",
    "        for i in range(len(names)):\n",
    "            X[i] = np.load(PAIR_PATH+\"/\"+names[i][0]).flatten()\n",
    "    except IndexError as e:\n",
    "        print names[i-1:i+2] \n",
    "        print e\n",
    "        return\n",
    "    print \"Done\"\n",
    "    # Applies pca on the images if its choosen\n",
    "    if pca:\n",
    "        print \"Applying PCA ... \",\n",
    "        X = applyPCA(X, n_components=n_comp)\n",
    "        print \"Done\"\n",
    "    print \"Predicting test images ... \",\n",
    "    y_pred = model.predict(X)\n",
    "    print 'Done'\n",
    "    print \"Calculating performance metrics ... \",\n",
    "    acc_score = accuracy_score(y_true, y_pred) \n",
    "    pre_score = precision_score(y_true, y_pred, average=avg)\n",
    "    rec_score = recall_score(y_true, y_pred, average=avg) \n",
    "    kap_score = cohen_kappa_score(y_true, y_pred)\n",
    "    fonce_score = f1_score(y_true, y_pred, average=avg)\n",
    "    conf_mat = confusion_matrix(y_true, y_pred)\n",
    "    print \"Done\\n\\n\"\n",
    "    print \"Model:\", model\n",
    "    print \"Accuracy: \", acc_score\n",
    "    print \"Precision:\", pre_score\n",
    "    print \"Recall:   \", rec_score\n",
    "    print \"F1:       \", fonce_score\n",
    "    print \"Kappa:    \", kap_score\n",
    "    print \"Confusion matrix:\"\n",
    "    for i in conf_mat:\n",
    "        print i\n",
    "    return acc_score, pre_score, rec_score, kap_score, fonce_score, conf_mat, y_pred"
   ]
  },
  {
   "cell_type": "code",
   "execution_count": 16,
   "metadata": {},
   "outputs": [],
   "source": [
    "def trainAndtest(X_train, y_train, X_test, y_test, clf, N=1000, pca=False, n_comp=None):\n",
    "    clf = trainModel(X_train[:N], y_train[:N], clf, pca=pca, n_comp=n_comp)\n",
    "    scores = testModel(X_test[:N], y_test[:N], clf, pca=pca, n_comp=n_comp)\n",
    "    return clf, scores[:-1], scores[-1] "
   ]
  },
  {
   "cell_type": "markdown",
   "metadata": {},
   "source": [
    "Creating lists to save results of the experiments."
   ]
  },
  {
   "cell_type": "code",
   "execution_count": 63,
   "metadata": {},
   "outputs": [],
   "source": [
    "results_svm = []\n",
    "results_ada = []\n",
    "results_rfc = []\n",
    "results_lr = []\n",
    "results_sgd = [] "
   ]
  },
  {
   "cell_type": "markdown",
   "metadata": {},
   "source": [
    "<h2>Support Vector Machine</h2>\n",
    "Support vector machine is the first classifier tested. The images are reshaped into 1D before being fed into the classifier.\n",
    "\n",
    "I tested C and gamma ranging from 0.1 to 10^6.\n",
    "However, the classifier doesn't go further from predicting everything as one class. I stopped testing it after many failed attempts.\n",
    "\n",
    "First the classifier has been trained with the first 1000 images from the train set.\n",
    "\n",
    "Then images are tested with the first 1000 images from the test set."
   ]
  },
  {
   "cell_type": "code",
   "execution_count": 64,
   "metadata": {
    "scrolled": false
   },
   "outputs": [
    {
     "name": "stdout",
     "output_type": "stream",
     "text": [
      "Started training\n",
      "Loading 1000 images ...  Done\n",
      "Applying PCA ...  Done\n",
      "Training the model\n",
      "Training complete, took 33.5763230324 seconds.\n",
      "Started evaluation\n",
      "Loading 1000 images ...  Done\n",
      "Applying PCA ...  Done\n",
      "Predicting test images ...  Done\n",
      "Calculating performance metrics ...  Done\n",
      "\n",
      "\n",
      "Model: SVC(C=100000, cache_size=200, class_weight=None, coef0=0.0,\n",
      "  decision_function_shape='ovr', degree=3, gamma=500, kernel='rbf',\n",
      "  max_iter=-1, probability=False, random_state=None, shrinking=True,\n",
      "  tol=0.001, verbose=False)\n",
      "Accuracy:  0.203\n",
      "Precision: 0.040600000000000004\n",
      "Recall:    0.2\n",
      "F1:        0.06749792186201163\n",
      "Kappa:     0.0\n",
      "Confusion matrix:\n",
      "[203   0   0   0   0]\n",
      "[212   0   0   0   0]\n",
      "[177   0   0   0   0]\n",
      "[209   0   0   0   0]\n",
      "[199   0   0   0   0]\n"
     ]
    },
    {
     "name": "stderr",
     "output_type": "stream",
     "text": [
      "/usr/local/lib/python2.7/dist-packages/sklearn/metrics/classification.py:1135: UndefinedMetricWarning:\n",
      "\n",
      "Precision is ill-defined and being set to 0.0 in labels with no predicted samples.\n",
      "\n",
      "/usr/local/lib/python2.7/dist-packages/sklearn/metrics/classification.py:1135: UndefinedMetricWarning:\n",
      "\n",
      "F-score is ill-defined and being set to 0.0 in labels with no predicted samples.\n",
      "\n"
     ]
    }
   ],
   "source": [
    "results_svm.append(trainAndtest(X_trainos, y_trainos, \n",
    "                           X_testos, y_testos, \n",
    "                           createSVM(c=10**5, g=500), pca=True, n_comp=32))  "
   ]
  },
  {
   "cell_type": "code",
   "execution_count": 67,
   "metadata": {},
   "outputs": [
    {
     "data": {
      "text/plain": [
       "<matplotlib.image.AxesImage at 0x7fae022cf150>"
      ]
     },
     "execution_count": 67,
     "metadata": {},
     "output_type": "execute_result"
    },
    {
     "data": {
      "image/png": "[encoded data removed]",
      "text/plain": [
       "<matplotlib.figure.Figure at 0x7fae01d53810>"
      ]
     },
     "metadata": {},
     "output_type": "display_data"
    }
   ],
   "source": [
    "plt.imshow(results_svm[-1][1][5], cmap='hot', interpolation='nearest') "
   ]
  },
  {
   "cell_type": "markdown",
   "metadata": {},
   "source": [
    "<h2>Stochastic Gradient Descent</h2>\n",
    "SGD is the second approach taken to classify the images. max_iter is set to 20 and alpha is set to 0.001 in the beginning. Then increased to 10^4. The \"best\" results were acquired when alpha was equal to 100.\n",
    "\n",
    "Best result is still around 17.8% so it performs very poorly.\n",
    "\n",
    "This can be trained to work with binary trainset. \n",
    "\n",
    "First the classifier is trained with the first 1000 images from the training set."
   ]
  },
  {
   "cell_type": "code",
   "execution_count": 68,
   "metadata": {},
   "outputs": [
    {
     "name": "stdout",
     "output_type": "stream",
     "text": [
      "Started training\n",
      "Loading 1000 images ...  Done\n",
      "Applying PCA ...  Done\n",
      "Training the model\n",
      "Training complete, took 26.2353918552 seconds.\n",
      "Started evaluation\n",
      "Loading 1000 images ...  Done\n",
      "Applying PCA ...  Done\n",
      "Predicting test images ...  Done\n",
      "Calculating performance metrics ...  Done\n",
      "\n",
      "\n",
      "Model: SGDClassifier(alpha=100, average=False, class_weight=None, epsilon=0.1,\n",
      "       eta0=0.0, fit_intercept=True, l1_ratio=0.15,\n",
      "       learning_rate='optimal', loss='hinge', max_iter=20, n_iter=None,\n",
      "       n_jobs=-1, penalty='l2', power_t=0.5, random_state=None,\n",
      "       shuffle=True, tol=None, verbose=0, warm_start=False)\n",
      "Accuracy:  0.178\n",
      "Precision: 0.17842534124774923\n",
      "Recall:    0.17797776747172278\n",
      "F1:        0.17651596052844548\n",
      "Kappa:     -0.027474313142171525\n",
      "Confusion matrix:\n",
      "[43 29 44 56 31]\n",
      "[50 28 41 61 32]\n",
      "[35 31 31 52 28]\n",
      "[43 36 48 46 36]\n",
      "[38 40 45 46 30]\n"
     ]
    }
   ],
   "source": [
    "results_sgd.append(trainAndtest(X_trainos, y_trainos, \n",
    "                           X_testos, y_testos, \n",
    "                           createSGD(loss='hinge', alpha=100), pca=True, n_comp=32)) "
   ]
  },
  {
   "cell_type": "code",
   "execution_count": 69,
   "metadata": {},
   "outputs": [
    {
     "data": {
      "text/plain": [
       "<matplotlib.image.AxesImage at 0x7fae017f4910>"
      ]
     },
     "execution_count": 69,
     "metadata": {},
     "output_type": "execute_result"
    },
    {
     "data": {
      "image/png": "[encoded data removed]",
      "text/plain": [
       "<matplotlib.figure.Figure at 0x7fae022cff50>"
      ]
     },
     "metadata": {},
     "output_type": "display_data"
    }
   ],
   "source": [
    "plt.imshow(results_sgd[-1][1][5], cmap='hot', interpolation='nearest') "
   ]
  },
  {
   "cell_type": "markdown",
   "metadata": {},
   "source": [
    "<h2>Random Forest Classifier</h2>\n",
    "Random forest classifer is my third method. I tried different tree depths ranging between 2 to 20 and estimator amount ranging between 10 to 1000 to see how they perform.\n",
    "\n",
    "It performed the best when the maximum depth is around 20. Due to performance and time issues I could set the number of estimators to 1000 to not too much.\n",
    "\n",
    "Also PCA seems to reduce the accuracy of the classifier so its not used.\n",
    "\n",
    "The best results are acquired from this classifier. It yield a 41% accuracy in the test set. Other metrics can be seen below."
   ]
  },
  {
   "cell_type": "code",
   "execution_count": 70,
   "metadata": {},
   "outputs": [
    {
     "name": "stdout",
     "output_type": "stream",
     "text": [
      "Started training\n",
      "Loading 1000 images ...  Done\n",
      "Training the model\n",
      "Training complete, took 70.2330429554 seconds.\n",
      "Started evaluation\n",
      "Loading 1000 images ...  Done\n",
      "Predicting test images ...  Done\n",
      "Calculating performance metrics ...  Done\n",
      "\n",
      "\n",
      "Model: RandomForestClassifier(bootstrap=True, class_weight=None, criterion='gini',\n",
      "            max_depth=20, max_features='auto', max_leaf_nodes=None,\n",
      "            min_impurity_decrease=0.0, min_impurity_split=None,\n",
      "            min_samples_leaf=1, min_samples_split=2,\n",
      "            min_weight_fraction_leaf=0.0, n_estimators=1000, n_jobs=-1,\n",
      "            oob_score=False, random_state=None, verbose=0,\n",
      "            warm_start=False)\n",
      "Accuracy:  0.417\n",
      "Precision: 0.41624503296844795\n",
      "Recall:    0.41401346352582846\n",
      "F1:        0.4083332283936052\n",
      "Kappa:     0.27145308245326616\n",
      "Confusion matrix:\n",
      "[87 25 43 23 25]\n",
      "[74 51 32 34 21]\n",
      "[58 29 41 22 27]\n",
      "[ 32  11  35 111  20]\n",
      "[ 20   5  29  18 127]\n"
     ]
    }
   ],
   "source": [
    "results_rfc.append(trainAndtest(X_trainos, y_trainos, \n",
    "                           X_testos, y_testos, \n",
    "                           createRFC(max_depth=20, n_est=1000), pca=False, n_comp=32))  "
   ]
  },
  {
   "cell_type": "code",
   "execution_count": 71,
   "metadata": {},
   "outputs": [
    {
     "data": {
      "text/plain": [
       "<matplotlib.image.AxesImage at 0x7fae01cc9890>"
      ]
     },
     "execution_count": 71,
     "metadata": {},
     "output_type": "execute_result"
    },
    {
     "data": {
      "image/png": "[encoded data removed]",
      "text/plain": [
       "<matplotlib.figure.Figure at 0x7fae01c4cfd0>"
      ]
     },
     "metadata": {},
     "output_type": "display_data"
    }
   ],
   "source": [
    "plt.imshow(results_rfc[-1][1][5], cmap='hot', interpolation='nearest') "
   ]
  },
  {
   "cell_type": "markdown",
   "metadata": {},
   "source": [
    "<h2>ADA Boost Classifier</h2>\n",
    "Ada boost classifer is my fourth method. I tried different estimator amounts ranging between 50 to 1000 to see how they perform.\n",
    "\n",
    "But this method took long enough for me to stop testing it. Changing the estimator amounts didn't really effect the accuracy as well."
   ]
  },
  {
   "cell_type": "code",
   "execution_count": 72,
   "metadata": {},
   "outputs": [
    {
     "name": "stdout",
     "output_type": "stream",
     "text": [
      "Started training\n",
      "Loading 1000 images ...  Done\n",
      "Training the model\n",
      "Training complete, took 1123.21483183 seconds.\n",
      "Started evaluation\n",
      "Loading 1000 images ...  Done\n",
      "Predicting test images ...  Done\n",
      "Calculating performance metrics ...  Done\n",
      "\n",
      "\n",
      "Model: AdaBoostClassifier(algorithm='SAMME.R', base_estimator=None, learning_rate=1,\n",
      "          n_estimators=50, random_state=None)\n",
      "Accuracy:  0.267\n",
      "Precision: 0.28121144126213504\n",
      "Recall:    0.2674841862795504\n",
      "F1:        0.2698463915343145\n",
      "Kappa:     0.08542025126612529\n",
      "Confusion matrix:\n",
      "[46 42 55 36 24]\n",
      "[71 39 44 40 18]\n",
      "[51 36 47 22 21]\n",
      "[45 18 49 71 26]\n",
      "[36 10 51 38 64]\n"
     ]
    }
   ],
   "source": [
    "results_ada.append(trainAndtest(X_trainos, y_trainos, \n",
    "                           X_testos, y_testos, \n",
    "                           createADA(), pca=False, n_comp=32)) "
   ]
  },
  {
   "cell_type": "code",
   "execution_count": 73,
   "metadata": {},
   "outputs": [
    {
     "data": {
      "text/plain": [
       "<matplotlib.image.AxesImage at 0x7fae0235de50>"
      ]
     },
     "execution_count": 73,
     "metadata": {},
     "output_type": "execute_result"
    },
    {
     "data": {
      "image/png": "[encoded data removed]",
      "text/plain": [
       "<matplotlib.figure.Figure at 0x7fae01b4b090>"
      ]
     },
     "metadata": {},
     "output_type": "display_data"
    }
   ],
   "source": [
    "plt.imshow(results_ada[-1][1][5], cmap='hot', interpolation='nearest')  "
   ]
  },
  {
   "cell_type": "markdown",
   "metadata": {},
   "source": [
    "<h2>Logistic Regression (One vs Rest)</h2>\n",
    "\n",
    "LR is trained with binary labels (sick or not) rather than different stages of the illness.\n",
    "Saga solver is being used instead of liblinear since it works faster in larger datasets. Also saga solver can be parallelized with n_jobs=-1, while liblinear cannot. (Though I came to realise saga has problems with multiprocessing as well).\n",
    "\n",
    "C is adjusted after each run from 0.01 to 100, however the performance doesn't go beyond being random."
   ]
  },
  {
   "cell_type": "code",
   "execution_count": 74,
   "metadata": {},
   "outputs": [
    {
     "name": "stdout",
     "output_type": "stream",
     "text": [
      "Started training\n",
      "Loading 1000 images ...  Done\n",
      "Applying PCA ...  Done\n",
      "Training the model\n",
      "Training complete, took 33.1287500858 seconds.\n",
      "Started evaluation\n",
      "Loading 1000 images ...  Done\n",
      "Applying PCA ...  Done\n",
      "Predicting test images ...  Done\n",
      "Calculating performance metrics ...  Done\n",
      "\n",
      "\n",
      "Model: LogisticRegression(C=100.0, class_weight=None, dual=False, fit_intercept=True,\n",
      "          intercept_scaling=1, max_iter=100, multi_class='ovr', n_jobs=-1,\n",
      "          penalty='l2', random_state=None, solver='saga', tol=0.0001,\n",
      "          verbose=0, warm_start=False)\n",
      "Accuracy:  0.51\n",
      "Precision: 0.5086070856371894\n",
      "Recall:    0.5085921810551126\n",
      "F1:        0.508566981317522\n",
      "Kappa:     0.01719704597512106\n",
      "Confusion matrix:\n",
      "[228 249]\n",
      "[241 282]\n"
     ]
    }
   ],
   "source": [
    "results_lr.append(trainAndtest(X_trainos_bin, y_trainos_bin, \n",
    "                          X_testos_bin, y_testos_bin, \n",
    "                          createLR(c=100.0, solver='saga', max_iter=100), pca=True, n_comp=32)) "
   ]
  },
  {
   "cell_type": "markdown",
   "metadata": {},
   "source": [
    "<h2>Convolutional Neural Network (An attempt)</h2>\n",
    "\n",
    "A small sized CNN has been setup for classification. The layers used can be seen below. This classifier is the least tested among the 3. The competition participants acquired the highest accuracy using CNNs. So, after most parts of the pipeline is laid down properly, this method should work the best."
   ]
  },
  {
   "cell_type": "code",
   "execution_count": 95,
   "metadata": {},
   "outputs": [],
   "source": [
    "def createCNN():\n",
    "    model = Sequential()\n",
    "    \n",
    "    model.add(Convolution2D(32, 3, 3, activation=\"relu\", input_shape=(256, 512, 3)))\n",
    "    model.add(Convolution2D(32, 3, 3, activation=\"relu\"))\n",
    "    model.add(MaxPooling2D(pool_size=(2, 2)))\n",
    "    model.add(Dropout(0.25))\n",
    "    \n",
    "    model.add(Flatten())\n",
    "    model.add(Dense(128, activation='relu'))\n",
    "    model.add(Dropout(0.5))\n",
    "    model.add(Dense(5, activation='softmax'))\n",
    "    \n",
    "    model.compile(loss=\"categorical_crossentropy\",\n",
    "                  optimizer=\"adam\",\n",
    "                  metrics=[\"accuracy\"])\n",
    "    \n",
    "    return model\n",
    "    \n",
    "def trainCNN(names, y, model):\n",
    "    print \"Loading\",len(names),\"images\"\n",
    "    X = range(len(names))\n",
    "    for i in range(len(names)):\n",
    "        X[i] = np.load(PAIR_PATH_RGB+\"/\"+names[i])\n",
    "    X = np.array(X)\n",
    "    y = np_utils.to_categorical(y, LABEL_COUNT)\n",
    "    print \"X shape\", X.shape\n",
    "    print \"y shape\", y.shape\n",
    "    print \"Loaded images. \\nTraining model\"\n",
    "    model.fit(X, y, batch_size=32, nb_epoch=5, verbose=1) \n",
    "    print \"Training complete\"\n",
    "    return model\n",
    "\n",
    "def testCNN(names, y, model):\n",
    "    X = range(len(names))\n",
    "    for i in range(len(names)):\n",
    "        X[i] = np.load(PAIR_PATH+\"/\"+names[i])\n",
    "    y = np_utils.to_categorical(y, LABEL_COUNT)\n",
    "    print \"Loaded images. \\nTraining model\"\n",
    "    return model.evaluate(X, y, verbose=0)"
   ]
  },
  {
   "cell_type": "markdown",
   "metadata": {},
   "source": [
    "The CNN is created and tested below. There are no tests done on this so far. "
   ]
  },
  {
   "cell_type": "code",
   "execution_count": 96,
   "metadata": {
    "scrolled": true
   },
   "outputs": [
    {
     "name": "stderr",
     "output_type": "stream",
     "text": [
      "/usr/local/lib/python2.7/dist-packages/ipykernel_launcher.py:4: UserWarning: Update your `Conv2D` call to the Keras 2 API: `Conv2D(32, (3, 3), activation=\"relu\", input_shape=(256, 512,...)`\n",
      "  after removing the cwd from sys.path.\n",
      "/usr/local/lib/python2.7/dist-packages/ipykernel_launcher.py:5: UserWarning: Update your `Conv2D` call to the Keras 2 API: `Conv2D(32, (3, 3), activation=\"relu\")`\n",
      "  \"\"\"\n"
     ]
    }
   ],
   "source": [
    "model = createCNN()"
   ]
  },
  {
   "cell_type": "code",
   "execution_count": null,
   "metadata": {},
   "outputs": [],
   "source": [
    "# TO DO: Fix Resource Problem\n",
    "model = trainCNN(X_train[:100], y[:100], model)"
   ]
  },
  {
   "cell_type": "markdown",
   "metadata": {},
   "source": [
    "Memory exhaustion errors weren't solved, thus, this code never actually ran."
   ]
  },
  {
   "cell_type": "markdown",
   "metadata": {},
   "source": [
    "<h1>Conclusion</h1><a href=#Outline>Go up</a>\n",
    "\n",
    "Overall, the data is fairly explored and the images are prepared to be fed into different classification algorithms. Processing the images took the most time. Different classifiers will be tested for the best accuracy and Random Forest seems to yield the best results. So far, the images are directly fed into the algorithms. Principal component analysis is tried on the images. Some algorithms led to better results after PCA while some performed very poorly. Even a small set of images has shown that the resources are not enough. A test run with 10000 images took longer than an hour on almost all algorithms. So only 1000 images are used for training and testing. \n",
    "\n",
    "The data is extremely large to be processed on a desktop computer, unless days are spent on training the data. The difference between the images are so little that classifiers almost always peform very poorly under all circumstances. My understanding on the subject is also very limited even after a good amount of research. The features of the retina should be extracted with the guidiance of a medical doctor. "
   ]
  },
  {
   "cell_type": "markdown",
   "metadata": {},
   "source": [
    "<h3>System Specs</h3>\n",
    "    - Python 2.7\n",
    "    - OS:     Ubuntu 16.04\n",
    "    - CPU:    Intel i7-6700\n",
    "    - GPU:    Nvidia Gtx 970\n",
    "    - Memory: DDR4 1600mhz 16gb"
   ]
  },
  {
   "cell_type": "markdown",
   "metadata": {},
   "source": [
    "The End"
   ]
  }
 ],
 "metadata": {
  "kernelspec": {
   "display_name": "Python 2",
   "language": "python",
   "name": "python2"
  },
  "language_info": {
   "codemirror_mode": {
    "name": "ipython",
    "version": 2
   },
   "file_extension": ".py",
   "mimetype": "text/x-python",
   "name": "python",
   "nbconvert_exporter": "python",
   "pygments_lexer": "ipython2",
   "version": "2.7.12"
  }
 },
 "nbformat": 4,
 "nbformat_minor": 2
}
